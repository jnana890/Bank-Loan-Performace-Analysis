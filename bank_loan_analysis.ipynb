{
 "cells": [
  {
   "cell_type": "markdown",
   "id": "37a64214-6d86-4a21-9d1a-010bb350e2f5",
   "metadata": {},
   "source": [
    "# Bank loan analysis"
   ]
  },
  {
   "cell_type": "code",
   "execution_count": 1,
   "id": "a5fe5e62-2e8e-4927-bfdf-b03fcc32f3bc",
   "metadata": {},
   "outputs": [],
   "source": [
    "import numpy as np\n",
    "import pandas as pd\n",
    "import matplotlib.pyplot as plt\n",
    "import seaborn as sns\n",
    "import warnings\n",
    "warnings.simplefilter('ignore')"
   ]
  },
  {
   "cell_type": "code",
   "execution_count": 3,
   "id": "a3b87d8f-3c0f-45a3-8034-871a35406f01",
   "metadata": {},
   "outputs": [
    {
     "data": {
      "text/html": [
       "<div>\n",
       "<style scoped>\n",
       "    .dataframe tbody tr th:only-of-type {\n",
       "        vertical-align: middle;\n",
       "    }\n",
       "\n",
       "    .dataframe tbody tr th {\n",
       "        vertical-align: top;\n",
       "    }\n",
       "\n",
       "    .dataframe thead th {\n",
       "        text-align: right;\n",
       "    }\n",
       "</style>\n",
       "<table border=\"1\" class=\"dataframe\">\n",
       "  <thead>\n",
       "    <tr style=\"text-align: right;\">\n",
       "      <th></th>\n",
       "      <th>id</th>\n",
       "      <th>address_state</th>\n",
       "      <th>application_type</th>\n",
       "      <th>emp_length</th>\n",
       "      <th>emp_title</th>\n",
       "      <th>grade</th>\n",
       "      <th>home_ownership</th>\n",
       "      <th>issue_date</th>\n",
       "      <th>last_credit_pull_date</th>\n",
       "      <th>last_payment_date</th>\n",
       "      <th>loan_status</th>\n",
       "      <th>next_payment_date</th>\n",
       "      <th>member_id</th>\n",
       "      <th>purpose</th>\n",
       "      <th>sub_grade</th>\n",
       "      <th>term</th>\n",
       "      <th>verification_status</th>\n",
       "      <th>annual_income</th>\n",
       "      <th>dti</th>\n",
       "      <th>installment</th>\n",
       "      <th>int_rate</th>\n",
       "      <th>loan_amount</th>\n",
       "      <th>total_acc</th>\n",
       "      <th>total_payment</th>\n",
       "    </tr>\n",
       "  </thead>\n",
       "  <tbody>\n",
       "    <tr>\n",
       "      <th>0</th>\n",
       "      <td>1077430</td>\n",
       "      <td>GA</td>\n",
       "      <td>INDIVIDUAL</td>\n",
       "      <td>&lt; 1 year</td>\n",
       "      <td>Ryder</td>\n",
       "      <td>C</td>\n",
       "      <td>RENT</td>\n",
       "      <td>11-02-2021</td>\n",
       "      <td>13-09-2021</td>\n",
       "      <td>13-04-2021</td>\n",
       "      <td>Charged Off</td>\n",
       "      <td>13-05-2021</td>\n",
       "      <td>1314167</td>\n",
       "      <td>car</td>\n",
       "      <td>C4</td>\n",
       "      <td>60 months</td>\n",
       "      <td>Source Verified</td>\n",
       "      <td>30000.0</td>\n",
       "      <td>0.0100</td>\n",
       "      <td>59.83</td>\n",
       "      <td>0.1527</td>\n",
       "      <td>2500</td>\n",
       "      <td>4</td>\n",
       "      <td>1009</td>\n",
       "    </tr>\n",
       "    <tr>\n",
       "      <th>1</th>\n",
       "      <td>1072053</td>\n",
       "      <td>CA</td>\n",
       "      <td>INDIVIDUAL</td>\n",
       "      <td>9 years</td>\n",
       "      <td>MKC Accounting</td>\n",
       "      <td>E</td>\n",
       "      <td>RENT</td>\n",
       "      <td>01-01-2021</td>\n",
       "      <td>14-12-2021</td>\n",
       "      <td>15-01-2021</td>\n",
       "      <td>Fully Paid</td>\n",
       "      <td>15-02-2021</td>\n",
       "      <td>1288686</td>\n",
       "      <td>car</td>\n",
       "      <td>E1</td>\n",
       "      <td>36 months</td>\n",
       "      <td>Source Verified</td>\n",
       "      <td>48000.0</td>\n",
       "      <td>0.0535</td>\n",
       "      <td>109.43</td>\n",
       "      <td>0.1864</td>\n",
       "      <td>3000</td>\n",
       "      <td>4</td>\n",
       "      <td>3939</td>\n",
       "    </tr>\n",
       "    <tr>\n",
       "      <th>2</th>\n",
       "      <td>1069243</td>\n",
       "      <td>CA</td>\n",
       "      <td>INDIVIDUAL</td>\n",
       "      <td>4 years</td>\n",
       "      <td>Chemat Technology Inc</td>\n",
       "      <td>C</td>\n",
       "      <td>RENT</td>\n",
       "      <td>05-01-2021</td>\n",
       "      <td>12-12-2021</td>\n",
       "      <td>09-01-2021</td>\n",
       "      <td>Charged Off</td>\n",
       "      <td>09-02-2021</td>\n",
       "      <td>1304116</td>\n",
       "      <td>car</td>\n",
       "      <td>C5</td>\n",
       "      <td>36 months</td>\n",
       "      <td>Not Verified</td>\n",
       "      <td>50000.0</td>\n",
       "      <td>0.2088</td>\n",
       "      <td>421.65</td>\n",
       "      <td>0.1596</td>\n",
       "      <td>12000</td>\n",
       "      <td>11</td>\n",
       "      <td>3522</td>\n",
       "    </tr>\n",
       "    <tr>\n",
       "      <th>3</th>\n",
       "      <td>1041756</td>\n",
       "      <td>TX</td>\n",
       "      <td>INDIVIDUAL</td>\n",
       "      <td>&lt; 1 year</td>\n",
       "      <td>barnes distribution</td>\n",
       "      <td>B</td>\n",
       "      <td>MORTGAGE</td>\n",
       "      <td>25-02-2021</td>\n",
       "      <td>12-12-2021</td>\n",
       "      <td>12-03-2021</td>\n",
       "      <td>Fully Paid</td>\n",
       "      <td>12-04-2021</td>\n",
       "      <td>1272024</td>\n",
       "      <td>car</td>\n",
       "      <td>B2</td>\n",
       "      <td>60 months</td>\n",
       "      <td>Source Verified</td>\n",
       "      <td>42000.0</td>\n",
       "      <td>0.0540</td>\n",
       "      <td>97.06</td>\n",
       "      <td>0.1065</td>\n",
       "      <td>4500</td>\n",
       "      <td>9</td>\n",
       "      <td>4911</td>\n",
       "    </tr>\n",
       "    <tr>\n",
       "      <th>4</th>\n",
       "      <td>1068350</td>\n",
       "      <td>IL</td>\n",
       "      <td>INDIVIDUAL</td>\n",
       "      <td>10+ years</td>\n",
       "      <td>J&amp;J Steel Inc</td>\n",
       "      <td>A</td>\n",
       "      <td>MORTGAGE</td>\n",
       "      <td>01-01-2021</td>\n",
       "      <td>14-12-2021</td>\n",
       "      <td>15-01-2021</td>\n",
       "      <td>Fully Paid</td>\n",
       "      <td>15-02-2021</td>\n",
       "      <td>1302971</td>\n",
       "      <td>car</td>\n",
       "      <td>A1</td>\n",
       "      <td>36 months</td>\n",
       "      <td>Verified</td>\n",
       "      <td>83000.0</td>\n",
       "      <td>0.0231</td>\n",
       "      <td>106.53</td>\n",
       "      <td>0.0603</td>\n",
       "      <td>3500</td>\n",
       "      <td>28</td>\n",
       "      <td>3835</td>\n",
       "    </tr>\n",
       "    <tr>\n",
       "      <th>...</th>\n",
       "      <td>...</td>\n",
       "      <td>...</td>\n",
       "      <td>...</td>\n",
       "      <td>...</td>\n",
       "      <td>...</td>\n",
       "      <td>...</td>\n",
       "      <td>...</td>\n",
       "      <td>...</td>\n",
       "      <td>...</td>\n",
       "      <td>...</td>\n",
       "      <td>...</td>\n",
       "      <td>...</td>\n",
       "      <td>...</td>\n",
       "      <td>...</td>\n",
       "      <td>...</td>\n",
       "      <td>...</td>\n",
       "      <td>...</td>\n",
       "      <td>...</td>\n",
       "      <td>...</td>\n",
       "      <td>...</td>\n",
       "      <td>...</td>\n",
       "      <td>...</td>\n",
       "      <td>...</td>\n",
       "      <td>...</td>\n",
       "    </tr>\n",
       "    <tr>\n",
       "      <th>38571</th>\n",
       "      <td>803452</td>\n",
       "      <td>NJ</td>\n",
       "      <td>INDIVIDUAL</td>\n",
       "      <td>&lt; 1 year</td>\n",
       "      <td>Joseph M Sanzari Company</td>\n",
       "      <td>C</td>\n",
       "      <td>MORTGAGE</td>\n",
       "      <td>11-07-2021</td>\n",
       "      <td>16-05-2021</td>\n",
       "      <td>16-05-2021</td>\n",
       "      <td>Current</td>\n",
       "      <td>16-06-2021</td>\n",
       "      <td>992381</td>\n",
       "      <td>wedding</td>\n",
       "      <td>C1</td>\n",
       "      <td>60 months</td>\n",
       "      <td>Verified</td>\n",
       "      <td>100000.0</td>\n",
       "      <td>0.1986</td>\n",
       "      <td>551.64</td>\n",
       "      <td>0.1299</td>\n",
       "      <td>24250</td>\n",
       "      <td>33</td>\n",
       "      <td>31946</td>\n",
       "    </tr>\n",
       "    <tr>\n",
       "      <th>38572</th>\n",
       "      <td>970377</td>\n",
       "      <td>NY</td>\n",
       "      <td>INDIVIDUAL</td>\n",
       "      <td>8 years</td>\n",
       "      <td>Swat Fame</td>\n",
       "      <td>C</td>\n",
       "      <td>RENT</td>\n",
       "      <td>11-10-2021</td>\n",
       "      <td>16-04-2021</td>\n",
       "      <td>16-05-2021</td>\n",
       "      <td>Current</td>\n",
       "      <td>16-06-2021</td>\n",
       "      <td>1192039</td>\n",
       "      <td>wedding</td>\n",
       "      <td>C1</td>\n",
       "      <td>60 months</td>\n",
       "      <td>Verified</td>\n",
       "      <td>50000.0</td>\n",
       "      <td>0.0458</td>\n",
       "      <td>579.72</td>\n",
       "      <td>0.1349</td>\n",
       "      <td>25200</td>\n",
       "      <td>18</td>\n",
       "      <td>31870</td>\n",
       "    </tr>\n",
       "    <tr>\n",
       "      <th>38573</th>\n",
       "      <td>875376</td>\n",
       "      <td>CA</td>\n",
       "      <td>INDIVIDUAL</td>\n",
       "      <td>5 years</td>\n",
       "      <td>Anaheim Regional Medical Center</td>\n",
       "      <td>D</td>\n",
       "      <td>RENT</td>\n",
       "      <td>11-09-2021</td>\n",
       "      <td>16-05-2021</td>\n",
       "      <td>16-05-2021</td>\n",
       "      <td>Current</td>\n",
       "      <td>16-06-2021</td>\n",
       "      <td>1089898</td>\n",
       "      <td>wedding</td>\n",
       "      <td>D5</td>\n",
       "      <td>60 months</td>\n",
       "      <td>Verified</td>\n",
       "      <td>65000.0</td>\n",
       "      <td>0.1734</td>\n",
       "      <td>627.93</td>\n",
       "      <td>0.1749</td>\n",
       "      <td>25000</td>\n",
       "      <td>20</td>\n",
       "      <td>35721</td>\n",
       "    </tr>\n",
       "    <tr>\n",
       "      <th>38574</th>\n",
       "      <td>972997</td>\n",
       "      <td>NY</td>\n",
       "      <td>INDIVIDUAL</td>\n",
       "      <td>5 years</td>\n",
       "      <td>Brooklyn Radiology</td>\n",
       "      <td>D</td>\n",
       "      <td>RENT</td>\n",
       "      <td>11-10-2021</td>\n",
       "      <td>16-05-2021</td>\n",
       "      <td>16-05-2021</td>\n",
       "      <td>Current</td>\n",
       "      <td>16-06-2021</td>\n",
       "      <td>1194971</td>\n",
       "      <td>wedding</td>\n",
       "      <td>D5</td>\n",
       "      <td>60 months</td>\n",
       "      <td>Verified</td>\n",
       "      <td>368000.0</td>\n",
       "      <td>0.0009</td>\n",
       "      <td>612.72</td>\n",
       "      <td>0.1825</td>\n",
       "      <td>24000</td>\n",
       "      <td>9</td>\n",
       "      <td>33677</td>\n",
       "    </tr>\n",
       "    <tr>\n",
       "      <th>38575</th>\n",
       "      <td>682952</td>\n",
       "      <td>NY</td>\n",
       "      <td>INDIVIDUAL</td>\n",
       "      <td>4 years</td>\n",
       "      <td>Allen Edmonds</td>\n",
       "      <td>F</td>\n",
       "      <td>RENT</td>\n",
       "      <td>11-07-2021</td>\n",
       "      <td>16-05-2021</td>\n",
       "      <td>16-05-2021</td>\n",
       "      <td>Current</td>\n",
       "      <td>16-06-2021</td>\n",
       "      <td>872217</td>\n",
       "      <td>wedding</td>\n",
       "      <td>F3</td>\n",
       "      <td>60 months</td>\n",
       "      <td>Verified</td>\n",
       "      <td>80000.0</td>\n",
       "      <td>0.0600</td>\n",
       "      <td>486.86</td>\n",
       "      <td>0.2099</td>\n",
       "      <td>18000</td>\n",
       "      <td>7</td>\n",
       "      <td>27679</td>\n",
       "    </tr>\n",
       "  </tbody>\n",
       "</table>\n",
       "<p>38576 rows × 24 columns</p>\n",
       "</div>"
      ],
      "text/plain": [
       "            id address_state application_type emp_length  \\\n",
       "0      1077430            GA       INDIVIDUAL   < 1 year   \n",
       "1      1072053            CA       INDIVIDUAL    9 years   \n",
       "2      1069243            CA       INDIVIDUAL    4 years   \n",
       "3      1041756            TX       INDIVIDUAL   < 1 year   \n",
       "4      1068350            IL       INDIVIDUAL  10+ years   \n",
       "...        ...           ...              ...        ...   \n",
       "38571   803452            NJ       INDIVIDUAL   < 1 year   \n",
       "38572   970377            NY       INDIVIDUAL    8 years   \n",
       "38573   875376            CA       INDIVIDUAL    5 years   \n",
       "38574   972997            NY       INDIVIDUAL    5 years   \n",
       "38575   682952            NY       INDIVIDUAL    4 years   \n",
       "\n",
       "                             emp_title grade home_ownership  issue_date  \\\n",
       "0                                Ryder     C           RENT  11-02-2021   \n",
       "1                       MKC Accounting     E           RENT  01-01-2021   \n",
       "2                Chemat Technology Inc     C           RENT  05-01-2021   \n",
       "3                  barnes distribution     B       MORTGAGE  25-02-2021   \n",
       "4                        J&J Steel Inc     A       MORTGAGE  01-01-2021   \n",
       "...                                ...   ...            ...         ...   \n",
       "38571         Joseph M Sanzari Company     C       MORTGAGE  11-07-2021   \n",
       "38572                        Swat Fame     C           RENT  11-10-2021   \n",
       "38573  Anaheim Regional Medical Center     D           RENT  11-09-2021   \n",
       "38574               Brooklyn Radiology     D           RENT  11-10-2021   \n",
       "38575                    Allen Edmonds     F           RENT  11-07-2021   \n",
       "\n",
       "      last_credit_pull_date last_payment_date  loan_status next_payment_date  \\\n",
       "0                13-09-2021        13-04-2021  Charged Off        13-05-2021   \n",
       "1                14-12-2021        15-01-2021   Fully Paid        15-02-2021   \n",
       "2                12-12-2021        09-01-2021  Charged Off        09-02-2021   \n",
       "3                12-12-2021        12-03-2021   Fully Paid        12-04-2021   \n",
       "4                14-12-2021        15-01-2021   Fully Paid        15-02-2021   \n",
       "...                     ...               ...          ...               ...   \n",
       "38571            16-05-2021        16-05-2021      Current        16-06-2021   \n",
       "38572            16-04-2021        16-05-2021      Current        16-06-2021   \n",
       "38573            16-05-2021        16-05-2021      Current        16-06-2021   \n",
       "38574            16-05-2021        16-05-2021      Current        16-06-2021   \n",
       "38575            16-05-2021        16-05-2021      Current        16-06-2021   \n",
       "\n",
       "       member_id  purpose sub_grade        term verification_status  \\\n",
       "0        1314167      car        C4   60 months     Source Verified   \n",
       "1        1288686      car        E1   36 months     Source Verified   \n",
       "2        1304116      car        C5   36 months        Not Verified   \n",
       "3        1272024      car        B2   60 months     Source Verified   \n",
       "4        1302971      car        A1   36 months            Verified   \n",
       "...          ...      ...       ...         ...                 ...   \n",
       "38571     992381  wedding        C1   60 months            Verified   \n",
       "38572    1192039  wedding        C1   60 months            Verified   \n",
       "38573    1089898  wedding        D5   60 months            Verified   \n",
       "38574    1194971  wedding        D5   60 months            Verified   \n",
       "38575     872217  wedding        F3   60 months            Verified   \n",
       "\n",
       "       annual_income     dti  installment  int_rate  loan_amount  total_acc  \\\n",
       "0            30000.0  0.0100        59.83    0.1527         2500          4   \n",
       "1            48000.0  0.0535       109.43    0.1864         3000          4   \n",
       "2            50000.0  0.2088       421.65    0.1596        12000         11   \n",
       "3            42000.0  0.0540        97.06    0.1065         4500          9   \n",
       "4            83000.0  0.0231       106.53    0.0603         3500         28   \n",
       "...              ...     ...          ...       ...          ...        ...   \n",
       "38571       100000.0  0.1986       551.64    0.1299        24250         33   \n",
       "38572        50000.0  0.0458       579.72    0.1349        25200         18   \n",
       "38573        65000.0  0.1734       627.93    0.1749        25000         20   \n",
       "38574       368000.0  0.0009       612.72    0.1825        24000          9   \n",
       "38575        80000.0  0.0600       486.86    0.2099        18000          7   \n",
       "\n",
       "       total_payment  \n",
       "0               1009  \n",
       "1               3939  \n",
       "2               3522  \n",
       "3               4911  \n",
       "4               3835  \n",
       "...              ...  \n",
       "38571          31946  \n",
       "38572          31870  \n",
       "38573          35721  \n",
       "38574          33677  \n",
       "38575          27679  \n",
       "\n",
       "[38576 rows x 24 columns]"
      ]
     },
     "execution_count": 3,
     "metadata": {},
     "output_type": "execute_result"
    }
   ],
   "source": [
    "pd.set_option('display.max_columns',None)\n",
    "df = pd.read_csv(r'H:\\Data_science_srk\\projects\\bank_loan\\financial_loan.csv')\n",
    "df"
   ]
  },
  {
   "cell_type": "code",
   "execution_count": 5,
   "id": "bf65eee2-b7c3-4178-ad12-a1bd4a645a59",
   "metadata": {},
   "outputs": [
    {
     "data": {
      "text/plain": [
       "Index(['id', 'address_state', 'application_type', 'emp_length', 'emp_title',\n",
       "       'grade', 'home_ownership', 'issue_date', 'last_credit_pull_date',\n",
       "       'last_payment_date', 'loan_status', 'next_payment_date', 'member_id',\n",
       "       'purpose', 'sub_grade', 'term', 'verification_status', 'annual_income',\n",
       "       'dti', 'installment', 'int_rate', 'loan_amount', 'total_acc',\n",
       "       'total_payment'],\n",
       "      dtype='object')"
      ]
     },
     "execution_count": 5,
     "metadata": {},
     "output_type": "execute_result"
    }
   ],
   "source": [
    "df.columns"
   ]
  },
  {
   "cell_type": "markdown",
   "id": "de221a5a-b5d9-4770-a7d8-bc9bd62db9c7",
   "metadata": {},
   "source": [
    "# data Understanding\n",
    "1. **id:** unique loan id\n",
    "2. **address_state:** Borrower location in states\n",
    "3. **application_type:** the type of application (individual or joint) in our dataset there is only one unique value i.e Individual\n",
    "4. **emp_length:** The borrower's employment length.\n",
    "5. **emp_title:** The borrower's job title.\n",
    "6. **grade:** In a bank loan dataset, the \"grade\" column typically represents a risk assessment assigned to a loan. It's a categorical variable that indicates the lender's perception of the borrower's creditworthiness and the likelihood of the loan being repaid.\n",
    "\n",
    "    **Here's a breakdown of what the \"grade\" column usually signifies:**\n",
    "   ***\n",
    "   - Higher grades (e.g., A, B, C): These typically represent lower-risk borrowers with a higher likelihood of repaying the loan. They often come with   lower interest rates.\n",
    "   - Lower grades (e.g., D, E, F): These indicate higher-risk borrowers with a greater chance of defaulting on the loan. They usually have higher interest rates to compensate for the increased risk.\n",
    "8. **home_ownership:** The borrower's home ownership status.\n",
    "9. **issue_date:** The date the loan was issued.\n",
    "10. **last_credit_pull_date:**\n",
    "11. **last_payment_date:** The date of the most recent payment.\n",
    "12. **loan_status:** The current status of the loan (e.g., current, charged off, fully paid).\n",
    "    \n",
    "      **Here's a breakdown of the commonly used statuses:**\n",
    "    ***\n",
    "     - Current: This means the loan is active, and the borrower is making regular payments according to the agreed-upon terms.\n",
    "     - Charged Off: This indicates that the lender has written off the loan as a loss. It typically occurs when a borrower has defaulted on the loan            and all reasonable collection efforts have been exhausted.\n",
    "     - Fully Paid: This means the borrower has successfully repaid the entire loan principal and interest, and the loan has been closed.\n",
    "14. **next_payment_date:** The scheduled date for the next payment.\n",
    "15. **member_id:** The unique Identifier for the borrower.\n",
    "16. **purpose:** The stated purpose of the loan.\n",
    "17. **sub_grade:** the sub-grade provides a more granular assessment of a borrower's creditworthiness within a given loan grade, allowing for more precise risk pricing and underwriting decisions.\n",
    "18. **term:** The loan term (e.g., 36 months, 60 months).\n",
    "19. **verification_status:** The verification status of the borrower's income (e.g., verified, not verified, source verified).\n",
    "20. **annual_income:** The borrower's annual income.\n",
    "21. **dti:**  The debt-to-income ratio, representing the borrower's monthly debt payments divided by their monthly income.\n",
    "22. **installment:** The monthly installment amount.\n",
    "23. **int_rate:** The interest rate charged on the loan.\n",
    "24. **loan_amount:** The total loan amount.\n",
    "25. **total_acc:**  The total number of accounts (e.g., credit cards, loans) the borrower has.\n",
    "26. **total_payment:** The total amount paid on the loan (including principal and interest)."
   ]
  },
  {
   "cell_type": "code",
   "execution_count": 7,
   "id": "4e04549b-0aef-493e-b71f-d4aab5b2f89e",
   "metadata": {},
   "outputs": [
    {
     "name": "stdout",
     "output_type": "stream",
     "text": [
      "<class 'pandas.core.frame.DataFrame'>\n",
      "RangeIndex: 38576 entries, 0 to 38575\n",
      "Data columns (total 24 columns):\n",
      " #   Column                 Non-Null Count  Dtype  \n",
      "---  ------                 --------------  -----  \n",
      " 0   id                     38576 non-null  int64  \n",
      " 1   address_state          38576 non-null  object \n",
      " 2   application_type       38576 non-null  object \n",
      " 3   emp_length             38576 non-null  object \n",
      " 4   emp_title              37138 non-null  object \n",
      " 5   grade                  38576 non-null  object \n",
      " 6   home_ownership         38576 non-null  object \n",
      " 7   issue_date             38576 non-null  object \n",
      " 8   last_credit_pull_date  38576 non-null  object \n",
      " 9   last_payment_date      38576 non-null  object \n",
      " 10  loan_status            38576 non-null  object \n",
      " 11  next_payment_date      38576 non-null  object \n",
      " 12  member_id              38576 non-null  int64  \n",
      " 13  purpose                38576 non-null  object \n",
      " 14  sub_grade              38576 non-null  object \n",
      " 15  term                   38576 non-null  object \n",
      " 16  verification_status    38576 non-null  object \n",
      " 17  annual_income          38576 non-null  float64\n",
      " 18  dti                    38576 non-null  float64\n",
      " 19  installment            38576 non-null  float64\n",
      " 20  int_rate               38576 non-null  float64\n",
      " 21  loan_amount            38576 non-null  int64  \n",
      " 22  total_acc              38576 non-null  int64  \n",
      " 23  total_payment          38576 non-null  int64  \n",
      "dtypes: float64(4), int64(5), object(15)\n",
      "memory usage: 7.1+ MB\n"
     ]
    }
   ],
   "source": [
    "df.info()"
   ]
  },
  {
   "cell_type": "markdown",
   "id": "49c4617b-e7b3-4bae-b320-792e9b49a0c2",
   "metadata": {},
   "source": [
    "**convert date object into datetime format**"
   ]
  },
  {
   "cell_type": "code",
   "execution_count": 9,
   "id": "c874e841-20ef-464f-96dd-2fb14f07388b",
   "metadata": {},
   "outputs": [],
   "source": [
    "df['issue_date'] = pd.to_datetime(df['issue_date'],format='%d-%m-%Y')\n",
    "df['last_credit_pull_date'] = pd.to_datetime(df['last_credit_pull_date'],format='%d-%m-%Y')\n",
    "df['last_payment_date'] = pd.to_datetime(df['last_payment_date'],format='%d-%m-%Y')\n",
    "df['next_payment_date'] = pd.to_datetime(df['next_payment_date'],format='%d-%m-%Y')"
   ]
  },
  {
   "cell_type": "code",
   "execution_count": 11,
   "id": "d6059d5d-6c0c-41e3-a76e-339b423e92f9",
   "metadata": {},
   "outputs": [],
   "source": [
    "df.drop(columns=['emp_title','application_type','total_acc','member_id'],inplace=True)"
   ]
  },
  {
   "cell_type": "code",
   "execution_count": 13,
   "id": "6e23bf92-95bf-4b03-8387-600a64454d1e",
   "metadata": {},
   "outputs": [
    {
     "data": {
      "text/plain": [
       "id                       0\n",
       "address_state            0\n",
       "emp_length               0\n",
       "grade                    0\n",
       "home_ownership           0\n",
       "issue_date               0\n",
       "last_credit_pull_date    0\n",
       "last_payment_date        0\n",
       "loan_status              0\n",
       "next_payment_date        0\n",
       "purpose                  0\n",
       "sub_grade                0\n",
       "term                     0\n",
       "verification_status      0\n",
       "annual_income            0\n",
       "dti                      0\n",
       "installment              0\n",
       "int_rate                 0\n",
       "loan_amount              0\n",
       "total_payment            0\n",
       "dtype: int64"
      ]
     },
     "execution_count": 13,
     "metadata": {},
     "output_type": "execute_result"
    }
   ],
   "source": [
    "df.isnull().sum()"
   ]
  },
  {
   "cell_type": "code",
   "execution_count": 15,
   "id": "49a0dae0-29d6-4d24-9ee4-0613d64f11e8",
   "metadata": {},
   "outputs": [
    {
     "data": {
      "text/plain": [
       "0"
      ]
     },
     "execution_count": 15,
     "metadata": {},
     "output_type": "execute_result"
    }
   ],
   "source": [
    "df.duplicated().sum()"
   ]
  },
  {
   "cell_type": "code",
   "execution_count": 17,
   "id": "3f5e6d46-cd03-4e7b-a5f7-d2351edd5eb8",
   "metadata": {},
   "outputs": [],
   "source": [
    "df['emp_length'].replace({'< 1 year':'1 year','10+ years':'10 years'},inplace = True)\n",
    "# df['loan_status'].replace({'Fully Paid':'Good','Charged Off':'Bad','Current':'Good'},inplace=True)\n",
    "# df['verification_status'].replace({'Source Verified':'Verified'},inplace=True)"
   ]
  },
  {
   "cell_type": "code",
   "execution_count": 19,
   "id": "8d994cb3-e059-4672-aa0f-0dcf2f41516c",
   "metadata": {},
   "outputs": [
    {
     "name": "stdout",
     "output_type": "stream",
     "text": [
      "address_state\n",
      "['GA' 'CA' 'TX' 'IL' 'PA' 'FL' 'MI' 'RI' 'NY' 'MD' 'WI' 'NV' 'UT' 'WA'\n",
      " 'NH' 'HI' 'MA' 'OK' 'NJ' 'OH' 'AZ' 'CT' 'MN' 'CO' 'TN' 'VA' 'MO' 'DE'\n",
      " 'NM' 'LA' 'AR' 'KY' 'NC' 'SC' 'WV' 'KS' 'WY' 'OR' 'AL' 'VT' 'MS' 'DC'\n",
      " 'MT' 'SD' 'AK' 'IN' 'ME' 'ID' 'NE' 'IA']\n",
      "--------------------------------------------------\n",
      "emp_length\n",
      "['1 year' '9 years' '4 years' '10 years' '3 years' '5 years' '6 years'\n",
      " '2 years' '7 years' '8 years']\n",
      "--------------------------------------------------\n",
      "grade\n",
      "['C' 'E' 'B' 'A' 'D' 'F' 'G']\n",
      "--------------------------------------------------\n",
      "home_ownership\n",
      "['RENT' 'MORTGAGE' 'OWN' 'OTHER' 'NONE']\n",
      "--------------------------------------------------\n",
      "loan_status\n",
      "['Charged Off' 'Fully Paid' 'Current']\n",
      "--------------------------------------------------\n",
      "purpose\n",
      "['car' 'credit card' 'Debt consolidation' 'educational' 'home improvement'\n",
      " 'house' 'major purchase' 'medical' 'moving' 'other' 'renewable_energy'\n",
      " 'small business' 'vacation' 'wedding']\n",
      "--------------------------------------------------\n",
      "sub_grade\n",
      "['C4' 'E1' 'C5' 'B2' 'A1' 'C3' 'C2' 'A4' 'A5' 'B5' 'B4' 'B3' 'B1' 'D1'\n",
      " 'A2' 'A3' 'D4' 'D2' 'C1' 'D3' 'E3' 'F1' 'E2' 'E5' 'D5' 'E4' 'F2' 'G3'\n",
      " 'F3' 'G1' 'F4' 'G4' 'G2' 'F5' 'G5']\n",
      "--------------------------------------------------\n",
      "term\n",
      "[' 60 months' ' 36 months']\n",
      "--------------------------------------------------\n",
      "verification_status\n",
      "['Source Verified' 'Not Verified' 'Verified']\n",
      "--------------------------------------------------\n"
     ]
    }
   ],
   "source": [
    "# get the unique values for each column\n",
    "for col in df.describe(include = 'object').columns:\n",
    "    print(col)\n",
    "    print(df[col].unique())\n",
    "    print('-'*50)"
   ]
  },
  {
   "cell_type": "code",
   "execution_count": 21,
   "id": "2f1e0029-7553-4726-a347-9f253a00734f",
   "metadata": {},
   "outputs": [],
   "source": [
    "df.to_csv('bank_loan_data.csv',index=False)"
   ]
  },
  {
   "cell_type": "code",
   "execution_count": 21,
   "id": "2c241533-9215-4232-95fc-09d7aee1ad38",
   "metadata": {},
   "outputs": [
    {
     "data": {
      "text/html": [
       "<div>\n",
       "<style scoped>\n",
       "    .dataframe tbody tr th:only-of-type {\n",
       "        vertical-align: middle;\n",
       "    }\n",
       "\n",
       "    .dataframe tbody tr th {\n",
       "        vertical-align: top;\n",
       "    }\n",
       "\n",
       "    .dataframe thead th {\n",
       "        text-align: right;\n",
       "    }\n",
       "</style>\n",
       "<table border=\"1\" class=\"dataframe\">\n",
       "  <thead>\n",
       "    <tr style=\"text-align: right;\">\n",
       "      <th></th>\n",
       "      <th>id</th>\n",
       "      <th>address_state</th>\n",
       "      <th>emp_length</th>\n",
       "      <th>grade</th>\n",
       "      <th>home_ownership</th>\n",
       "      <th>issue_date</th>\n",
       "      <th>last_credit_pull_date</th>\n",
       "      <th>last_payment_date</th>\n",
       "      <th>loan_status</th>\n",
       "      <th>next_payment_date</th>\n",
       "      <th>purpose</th>\n",
       "      <th>sub_grade</th>\n",
       "      <th>term</th>\n",
       "      <th>verification_status</th>\n",
       "      <th>annual_income</th>\n",
       "      <th>dti</th>\n",
       "      <th>installment</th>\n",
       "      <th>int_rate</th>\n",
       "      <th>loan_amount</th>\n",
       "      <th>total_payment</th>\n",
       "    </tr>\n",
       "  </thead>\n",
       "  <tbody>\n",
       "    <tr>\n",
       "      <th>0</th>\n",
       "      <td>1077430</td>\n",
       "      <td>GA</td>\n",
       "      <td>1 year</td>\n",
       "      <td>C</td>\n",
       "      <td>RENT</td>\n",
       "      <td>2021-02-11</td>\n",
       "      <td>2021-09-13</td>\n",
       "      <td>2021-04-13</td>\n",
       "      <td>Charged Off</td>\n",
       "      <td>2021-05-13</td>\n",
       "      <td>car</td>\n",
       "      <td>C4</td>\n",
       "      <td>60 months</td>\n",
       "      <td>Source Verified</td>\n",
       "      <td>30000.0</td>\n",
       "      <td>0.0100</td>\n",
       "      <td>59.83</td>\n",
       "      <td>0.1527</td>\n",
       "      <td>2500</td>\n",
       "      <td>1009</td>\n",
       "    </tr>\n",
       "    <tr>\n",
       "      <th>1</th>\n",
       "      <td>1072053</td>\n",
       "      <td>CA</td>\n",
       "      <td>9 years</td>\n",
       "      <td>E</td>\n",
       "      <td>RENT</td>\n",
       "      <td>2021-01-01</td>\n",
       "      <td>2021-12-14</td>\n",
       "      <td>2021-01-15</td>\n",
       "      <td>Fully Paid</td>\n",
       "      <td>2021-02-15</td>\n",
       "      <td>car</td>\n",
       "      <td>E1</td>\n",
       "      <td>36 months</td>\n",
       "      <td>Source Verified</td>\n",
       "      <td>48000.0</td>\n",
       "      <td>0.0535</td>\n",
       "      <td>109.43</td>\n",
       "      <td>0.1864</td>\n",
       "      <td>3000</td>\n",
       "      <td>3939</td>\n",
       "    </tr>\n",
       "    <tr>\n",
       "      <th>2</th>\n",
       "      <td>1069243</td>\n",
       "      <td>CA</td>\n",
       "      <td>4 years</td>\n",
       "      <td>C</td>\n",
       "      <td>RENT</td>\n",
       "      <td>2021-01-05</td>\n",
       "      <td>2021-12-12</td>\n",
       "      <td>2021-01-09</td>\n",
       "      <td>Charged Off</td>\n",
       "      <td>2021-02-09</td>\n",
       "      <td>car</td>\n",
       "      <td>C5</td>\n",
       "      <td>36 months</td>\n",
       "      <td>Not Verified</td>\n",
       "      <td>50000.0</td>\n",
       "      <td>0.2088</td>\n",
       "      <td>421.65</td>\n",
       "      <td>0.1596</td>\n",
       "      <td>12000</td>\n",
       "      <td>3522</td>\n",
       "    </tr>\n",
       "    <tr>\n",
       "      <th>3</th>\n",
       "      <td>1041756</td>\n",
       "      <td>TX</td>\n",
       "      <td>1 year</td>\n",
       "      <td>B</td>\n",
       "      <td>MORTGAGE</td>\n",
       "      <td>2021-02-25</td>\n",
       "      <td>2021-12-12</td>\n",
       "      <td>2021-03-12</td>\n",
       "      <td>Fully Paid</td>\n",
       "      <td>2021-04-12</td>\n",
       "      <td>car</td>\n",
       "      <td>B2</td>\n",
       "      <td>60 months</td>\n",
       "      <td>Source Verified</td>\n",
       "      <td>42000.0</td>\n",
       "      <td>0.0540</td>\n",
       "      <td>97.06</td>\n",
       "      <td>0.1065</td>\n",
       "      <td>4500</td>\n",
       "      <td>4911</td>\n",
       "    </tr>\n",
       "    <tr>\n",
       "      <th>4</th>\n",
       "      <td>1068350</td>\n",
       "      <td>IL</td>\n",
       "      <td>10 years</td>\n",
       "      <td>A</td>\n",
       "      <td>MORTGAGE</td>\n",
       "      <td>2021-01-01</td>\n",
       "      <td>2021-12-14</td>\n",
       "      <td>2021-01-15</td>\n",
       "      <td>Fully Paid</td>\n",
       "      <td>2021-02-15</td>\n",
       "      <td>car</td>\n",
       "      <td>A1</td>\n",
       "      <td>36 months</td>\n",
       "      <td>Verified</td>\n",
       "      <td>83000.0</td>\n",
       "      <td>0.0231</td>\n",
       "      <td>106.53</td>\n",
       "      <td>0.0603</td>\n",
       "      <td>3500</td>\n",
       "      <td>3835</td>\n",
       "    </tr>\n",
       "    <tr>\n",
       "      <th>...</th>\n",
       "      <td>...</td>\n",
       "      <td>...</td>\n",
       "      <td>...</td>\n",
       "      <td>...</td>\n",
       "      <td>...</td>\n",
       "      <td>...</td>\n",
       "      <td>...</td>\n",
       "      <td>...</td>\n",
       "      <td>...</td>\n",
       "      <td>...</td>\n",
       "      <td>...</td>\n",
       "      <td>...</td>\n",
       "      <td>...</td>\n",
       "      <td>...</td>\n",
       "      <td>...</td>\n",
       "      <td>...</td>\n",
       "      <td>...</td>\n",
       "      <td>...</td>\n",
       "      <td>...</td>\n",
       "      <td>...</td>\n",
       "    </tr>\n",
       "    <tr>\n",
       "      <th>38571</th>\n",
       "      <td>803452</td>\n",
       "      <td>NJ</td>\n",
       "      <td>1 year</td>\n",
       "      <td>C</td>\n",
       "      <td>MORTGAGE</td>\n",
       "      <td>2021-07-11</td>\n",
       "      <td>2021-05-16</td>\n",
       "      <td>2021-05-16</td>\n",
       "      <td>Current</td>\n",
       "      <td>2021-06-16</td>\n",
       "      <td>wedding</td>\n",
       "      <td>C1</td>\n",
       "      <td>60 months</td>\n",
       "      <td>Verified</td>\n",
       "      <td>100000.0</td>\n",
       "      <td>0.1986</td>\n",
       "      <td>551.64</td>\n",
       "      <td>0.1299</td>\n",
       "      <td>24250</td>\n",
       "      <td>31946</td>\n",
       "    </tr>\n",
       "    <tr>\n",
       "      <th>38572</th>\n",
       "      <td>970377</td>\n",
       "      <td>NY</td>\n",
       "      <td>8 years</td>\n",
       "      <td>C</td>\n",
       "      <td>RENT</td>\n",
       "      <td>2021-10-11</td>\n",
       "      <td>2021-04-16</td>\n",
       "      <td>2021-05-16</td>\n",
       "      <td>Current</td>\n",
       "      <td>2021-06-16</td>\n",
       "      <td>wedding</td>\n",
       "      <td>C1</td>\n",
       "      <td>60 months</td>\n",
       "      <td>Verified</td>\n",
       "      <td>50000.0</td>\n",
       "      <td>0.0458</td>\n",
       "      <td>579.72</td>\n",
       "      <td>0.1349</td>\n",
       "      <td>25200</td>\n",
       "      <td>31870</td>\n",
       "    </tr>\n",
       "    <tr>\n",
       "      <th>38573</th>\n",
       "      <td>875376</td>\n",
       "      <td>CA</td>\n",
       "      <td>5 years</td>\n",
       "      <td>D</td>\n",
       "      <td>RENT</td>\n",
       "      <td>2021-09-11</td>\n",
       "      <td>2021-05-16</td>\n",
       "      <td>2021-05-16</td>\n",
       "      <td>Current</td>\n",
       "      <td>2021-06-16</td>\n",
       "      <td>wedding</td>\n",
       "      <td>D5</td>\n",
       "      <td>60 months</td>\n",
       "      <td>Verified</td>\n",
       "      <td>65000.0</td>\n",
       "      <td>0.1734</td>\n",
       "      <td>627.93</td>\n",
       "      <td>0.1749</td>\n",
       "      <td>25000</td>\n",
       "      <td>35721</td>\n",
       "    </tr>\n",
       "    <tr>\n",
       "      <th>38574</th>\n",
       "      <td>972997</td>\n",
       "      <td>NY</td>\n",
       "      <td>5 years</td>\n",
       "      <td>D</td>\n",
       "      <td>RENT</td>\n",
       "      <td>2021-10-11</td>\n",
       "      <td>2021-05-16</td>\n",
       "      <td>2021-05-16</td>\n",
       "      <td>Current</td>\n",
       "      <td>2021-06-16</td>\n",
       "      <td>wedding</td>\n",
       "      <td>D5</td>\n",
       "      <td>60 months</td>\n",
       "      <td>Verified</td>\n",
       "      <td>368000.0</td>\n",
       "      <td>0.0009</td>\n",
       "      <td>612.72</td>\n",
       "      <td>0.1825</td>\n",
       "      <td>24000</td>\n",
       "      <td>33677</td>\n",
       "    </tr>\n",
       "    <tr>\n",
       "      <th>38575</th>\n",
       "      <td>682952</td>\n",
       "      <td>NY</td>\n",
       "      <td>4 years</td>\n",
       "      <td>F</td>\n",
       "      <td>RENT</td>\n",
       "      <td>2021-07-11</td>\n",
       "      <td>2021-05-16</td>\n",
       "      <td>2021-05-16</td>\n",
       "      <td>Current</td>\n",
       "      <td>2021-06-16</td>\n",
       "      <td>wedding</td>\n",
       "      <td>F3</td>\n",
       "      <td>60 months</td>\n",
       "      <td>Verified</td>\n",
       "      <td>80000.0</td>\n",
       "      <td>0.0600</td>\n",
       "      <td>486.86</td>\n",
       "      <td>0.2099</td>\n",
       "      <td>18000</td>\n",
       "      <td>27679</td>\n",
       "    </tr>\n",
       "  </tbody>\n",
       "</table>\n",
       "<p>38576 rows × 20 columns</p>\n",
       "</div>"
      ],
      "text/plain": [
       "            id address_state emp_length grade home_ownership  issue_date  \\\n",
       "0      1077430            GA     1 year     C           RENT  2021-02-11   \n",
       "1      1072053            CA    9 years     E           RENT  2021-01-01   \n",
       "2      1069243            CA    4 years     C           RENT  2021-01-05   \n",
       "3      1041756            TX     1 year     B       MORTGAGE  2021-02-25   \n",
       "4      1068350            IL   10 years     A       MORTGAGE  2021-01-01   \n",
       "...        ...           ...        ...   ...            ...         ...   \n",
       "38571   803452            NJ     1 year     C       MORTGAGE  2021-07-11   \n",
       "38572   970377            NY    8 years     C           RENT  2021-10-11   \n",
       "38573   875376            CA    5 years     D           RENT  2021-09-11   \n",
       "38574   972997            NY    5 years     D           RENT  2021-10-11   \n",
       "38575   682952            NY    4 years     F           RENT  2021-07-11   \n",
       "\n",
       "      last_credit_pull_date last_payment_date  loan_status next_payment_date  \\\n",
       "0                2021-09-13        2021-04-13  Charged Off        2021-05-13   \n",
       "1                2021-12-14        2021-01-15   Fully Paid        2021-02-15   \n",
       "2                2021-12-12        2021-01-09  Charged Off        2021-02-09   \n",
       "3                2021-12-12        2021-03-12   Fully Paid        2021-04-12   \n",
       "4                2021-12-14        2021-01-15   Fully Paid        2021-02-15   \n",
       "...                     ...               ...          ...               ...   \n",
       "38571            2021-05-16        2021-05-16      Current        2021-06-16   \n",
       "38572            2021-04-16        2021-05-16      Current        2021-06-16   \n",
       "38573            2021-05-16        2021-05-16      Current        2021-06-16   \n",
       "38574            2021-05-16        2021-05-16      Current        2021-06-16   \n",
       "38575            2021-05-16        2021-05-16      Current        2021-06-16   \n",
       "\n",
       "       purpose sub_grade        term verification_status  annual_income  \\\n",
       "0          car        C4   60 months     Source Verified        30000.0   \n",
       "1          car        E1   36 months     Source Verified        48000.0   \n",
       "2          car        C5   36 months        Not Verified        50000.0   \n",
       "3          car        B2   60 months     Source Verified        42000.0   \n",
       "4          car        A1   36 months            Verified        83000.0   \n",
       "...        ...       ...         ...                 ...            ...   \n",
       "38571  wedding        C1   60 months            Verified       100000.0   \n",
       "38572  wedding        C1   60 months            Verified        50000.0   \n",
       "38573  wedding        D5   60 months            Verified        65000.0   \n",
       "38574  wedding        D5   60 months            Verified       368000.0   \n",
       "38575  wedding        F3   60 months            Verified        80000.0   \n",
       "\n",
       "          dti  installment  int_rate  loan_amount  total_payment  \n",
       "0      0.0100        59.83    0.1527         2500           1009  \n",
       "1      0.0535       109.43    0.1864         3000           3939  \n",
       "2      0.2088       421.65    0.1596        12000           3522  \n",
       "3      0.0540        97.06    0.1065         4500           4911  \n",
       "4      0.0231       106.53    0.0603         3500           3835  \n",
       "...       ...          ...       ...          ...            ...  \n",
       "38571  0.1986       551.64    0.1299        24250          31946  \n",
       "38572  0.0458       579.72    0.1349        25200          31870  \n",
       "38573  0.1734       627.93    0.1749        25000          35721  \n",
       "38574  0.0009       612.72    0.1825        24000          33677  \n",
       "38575  0.0600       486.86    0.2099        18000          27679  \n",
       "\n",
       "[38576 rows x 20 columns]"
      ]
     },
     "execution_count": 21,
     "metadata": {},
     "output_type": "execute_result"
    }
   ],
   "source": [
    "df1 = pd.read_csv('bank_loan_data.csv')\n",
    "df1"
   ]
  },
  {
   "cell_type": "code",
   "execution_count": 23,
   "id": "e2046136-34b0-4ed0-a819-da72239c0ddd",
   "metadata": {},
   "outputs": [],
   "source": [
    "df1['issue_date'] = pd.to_datetime(df1['issue_date'],format='%Y-%m-%d')\n",
    "df1['last_credit_pull_date'] = pd.to_datetime(df1['last_credit_pull_date'],format='%Y-%m-%d')\n",
    "df1['last_payment_date'] = pd.to_datetime(df1['last_payment_date'],format='%Y-%m-%d')\n",
    "df1['next_payment_date'] = pd.to_datetime(df1['next_payment_date'],format='%Y-%m-%d')"
   ]
  },
  {
   "cell_type": "code",
   "execution_count": 25,
   "id": "d7f3f58f-e0b9-4446-a6b5-903c8b4a51b0",
   "metadata": {},
   "outputs": [
    {
     "name": "stdout",
     "output_type": "stream",
     "text": [
      "<class 'pandas.core.frame.DataFrame'>\n",
      "RangeIndex: 38576 entries, 0 to 38575\n",
      "Data columns (total 20 columns):\n",
      " #   Column                 Non-Null Count  Dtype         \n",
      "---  ------                 --------------  -----         \n",
      " 0   id                     38576 non-null  int64         \n",
      " 1   address_state          38576 non-null  object        \n",
      " 2   emp_length             38576 non-null  object        \n",
      " 3   grade                  38576 non-null  object        \n",
      " 4   home_ownership         38576 non-null  object        \n",
      " 5   issue_date             38576 non-null  datetime64[ns]\n",
      " 6   last_credit_pull_date  38576 non-null  datetime64[ns]\n",
      " 7   last_payment_date      38576 non-null  datetime64[ns]\n",
      " 8   loan_status            38576 non-null  object        \n",
      " 9   next_payment_date      38576 non-null  datetime64[ns]\n",
      " 10  purpose                38576 non-null  object        \n",
      " 11  sub_grade              38576 non-null  object        \n",
      " 12  term                   38576 non-null  object        \n",
      " 13  verification_status    38576 non-null  object        \n",
      " 14  annual_income          38576 non-null  float64       \n",
      " 15  dti                    38576 non-null  float64       \n",
      " 16  installment            38576 non-null  float64       \n",
      " 17  int_rate               38576 non-null  float64       \n",
      " 18  loan_amount            38576 non-null  int64         \n",
      " 19  total_payment          38576 non-null  int64         \n",
      "dtypes: datetime64[ns](4), float64(4), int64(3), object(9)\n",
      "memory usage: 5.9+ MB\n"
     ]
    }
   ],
   "source": [
    "df1.info()"
   ]
  },
  {
   "cell_type": "markdown",
   "id": "1beb78b7-5c01-4a93-a060-5e0e4bb6d497",
   "metadata": {},
   "source": [
    "1. **Total loan application**"
   ]
  },
  {
   "cell_type": "code",
   "execution_count": 27,
   "id": "4fb2653c-e8af-483d-b3c1-0bda39ebf3e8",
   "metadata": {},
   "outputs": [
    {
     "name": "stdout",
     "output_type": "stream",
     "text": [
      "Total Loan Application: 38576\n"
     ]
    }
   ],
   "source": [
    "print('Total Loan Application:',len(df1))"
   ]
  },
  {
   "cell_type": "markdown",
   "id": "926679d5-3186-4b94-893d-3ed8f1f26df4",
   "metadata": {},
   "source": [
    "2. **MTD Loan Application**"
   ]
  },
  {
   "cell_type": "code",
   "execution_count": 33,
   "id": "c7d4503d-e06a-41d8-9d4a-759aada038ab",
   "metadata": {},
   "outputs": [
    {
     "name": "stdout",
     "output_type": "stream",
     "text": [
      "Total Loan Application Received in Each Month: issue_date\n",
      "2021-01    2332\n",
      "2021-02    2279\n",
      "2021-03    2627\n",
      "2021-04    2755\n",
      "2021-05    2911\n",
      "2021-06    3184\n",
      "2021-07    3366\n",
      "2021-08    3441\n",
      "2021-09    3536\n",
      "2021-10    3796\n",
      "2021-11    4035\n",
      "2021-12    4314\n",
      "Freq: M, Name: count, dtype: int64\n"
     ]
    }
   ],
   "source": [
    "mtd = df['issue_date'].dt.to_period('M').value_counts().sort_index()\n",
    "print('Total Loan Application Received in Each Month:',mtd)"
   ]
  },
  {
   "cell_type": "code",
   "execution_count": 43,
   "id": "6992c00c-f6a1-4dbf-8bf8-9dc524ca09fc",
   "metadata": {},
   "outputs": [
    {
     "data": {
      "text/plain": [
       "issue_date\n",
       "1     2332\n",
       "2     2279\n",
       "3     2627\n",
       "4     2755\n",
       "5     2911\n",
       "6     3184\n",
       "7     3366\n",
       "8     3441\n",
       "9     3536\n",
       "10    3796\n",
       "11    4035\n",
       "12    4314\n",
       "Name: count, dtype: int64"
      ]
     },
     "execution_count": 43,
     "metadata": {},
     "output_type": "execute_result"
    }
   ],
   "source": [
    "df1['issue_date'].dt.month.value_counts().sort_index()"
   ]
  },
  {
   "cell_type": "code",
   "execution_count": 49,
   "id": "a3915515-4a00-48b1-ae83-e27007ad72c2",
   "metadata": {},
   "outputs": [
    {
     "data": {
      "text/plain": [
       "0       1\n",
       "1       1\n",
       "2       1\n",
       "3       1\n",
       "4       1\n",
       "       ..\n",
       "360    12\n",
       "361    12\n",
       "362    12\n",
       "363    12\n",
       "364    12\n",
       "Length: 365, dtype: int32"
      ]
     },
     "execution_count": 49,
     "metadata": {},
     "output_type": "execute_result"
    }
   ],
   "source": [
    "# import pandas as pd\n",
    "\n",
    "# Create a Series of timestamps\n",
    "dates = pd.Series(pd.date_range(start='2023-01-01', end='2023-12-31', freq='D'))\n",
    "\n",
    "# Convert to periods\n",
    "periods = dates.dt.to_period('M')\n",
    "\n",
    "# Extract month numbers\n",
    "months = dates.dt.month\n",
    "\n",
    "# print(\"Periods:\", periods)\n",
    "# print(\"Months:\", months)\n",
    "# dates\n",
    "# periods\n",
    "# months"
   ]
  },
  {
   "cell_type": "markdown",
   "id": "fca952e9-edd1-47f0-a9b4-11605b0a9a83",
   "metadata": {},
   "source": [
    "3. **MOM Loan Application**"
   ]
  },
  {
   "cell_type": "code",
   "execution_count": 31,
   "id": "dfc2347b-d6f6-411e-86a0-81b7419795c0",
   "metadata": {},
   "outputs": [
    {
     "name": "stdout",
     "output_type": "stream",
     "text": [
      "Month Over Month Loan Appllication Received in terms of percentage: issue_date\n",
      "2021-01     0.000000\n",
      "2021-02    -2.272727\n",
      "2021-03    15.269855\n",
      "2021-04     4.872478\n",
      "2021-05     5.662432\n",
      "2021-06     9.378221\n",
      "2021-07     5.716080\n",
      "2021-08     2.228164\n",
      "2021-09     2.760825\n",
      "2021-10     7.352941\n",
      "2021-11     6.296101\n",
      "2021-12     6.914498\n",
      "Freq: M, Name: count, dtype: float64\n"
     ]
    }
   ],
   "source": [
    "mom = mtd.pct_change().fillna(0)*100\n",
    "print('Month Over Month Loan Appllication Received in terms of percentage:', mom)"
   ]
  },
  {
   "cell_type": "code",
   "execution_count": 56,
   "id": "488b8875-7164-42c6-b5a6-eba022b97c09",
   "metadata": {},
   "outputs": [
    {
     "name": "stdout",
     "output_type": "stream",
     "text": [
      "Month Over Month Loan Appllication Received in terms of absolute value: issue_date\n",
      "2021-01      NaN\n",
      "2021-02    -53.0\n",
      "2021-03    348.0\n",
      "2021-04    128.0\n",
      "2021-05    156.0\n",
      "2021-06    273.0\n",
      "2021-07    182.0\n",
      "2021-08     75.0\n",
      "2021-09     95.0\n",
      "2021-10    260.0\n",
      "2021-11    239.0\n",
      "2021-12    279.0\n",
      "Freq: M, Name: count, dtype: float64\n"
     ]
    }
   ],
   "source": [
    "momd = mtd.diff()\n",
    "print('Month Over Month Loan Appllication Received in terms of absolute value:', momd)"
   ]
  },
  {
   "cell_type": "markdown",
   "id": "3ee560a1-83d9-4727-a821-8a7cdc37a854",
   "metadata": {},
   "source": [
    "4. **Total Funded Amount**"
   ]
  },
  {
   "cell_type": "code",
   "execution_count": 33,
   "id": "97b57742-55df-4a3b-aedc-a8b638b5e489",
   "metadata": {},
   "outputs": [
    {
     "name": "stdout",
     "output_type": "stream",
     "text": [
      "Total Funded Loan Amount: 435757075\n"
     ]
    }
   ],
   "source": [
    "total_loan_amount = df1['loan_amount'].sum()\n",
    "print('Total Funded Loan Amount:', total_loan_amount)"
   ]
  },
  {
   "cell_type": "markdown",
   "id": "ff8fbda7-9cc9-4ed6-ab85-ab39ad307ad0",
   "metadata": {},
   "source": [
    "5. **MTD total funded amount**"
   ]
  },
  {
   "cell_type": "code",
   "execution_count": 35,
   "id": "f66d5581-76d3-4d92-b0a6-6fc36d702715",
   "metadata": {},
   "outputs": [
    {
     "name": "stdout",
     "output_type": "stream",
     "text": [
      "total loan allocated in each month: issue_month\n",
      "2021-01    25031650\n",
      "2021-02    24647825\n",
      "2021-03    28875700\n",
      "2021-04    29800800\n",
      "2021-05    31738350\n",
      "2021-06    34161475\n",
      "2021-07    35813900\n",
      "2021-08    38149600\n",
      "2021-09    40907725\n",
      "2021-10    44893800\n",
      "2021-11    47754825\n",
      "2021-12    53981425\n",
      "Freq: M, Name: loan_amount, dtype: int64\n"
     ]
    }
   ],
   "source": [
    "df1['issue_month'] = df1['issue_date'].dt.to_period('M')\n",
    "monthly_funds=df1.groupby(\"issue_month\")[\"loan_amount\"].sum()\n",
    "print('total loan allocated in each month:',monthly_funds)"
   ]
  },
  {
   "cell_type": "markdown",
   "id": "bd7e8cd9-51d4-468e-80e6-7b45cc328179",
   "metadata": {},
   "source": [
    "6. **MOM Total Fund Amount**"
   ]
  },
  {
   "cell_type": "code",
   "execution_count": 37,
   "id": "a2b912c5-9d36-4cd2-9681-9a81f4fc58c2",
   "metadata": {},
   "outputs": [
    {
     "name": "stdout",
     "output_type": "stream",
     "text": [
      "Month over month total funded amount in terms of percentage: issue_month\n",
      "2021-01     0.000000\n",
      "2021-02    -1.533359\n",
      "2021-03    17.153136\n",
      "2021-04     3.203732\n",
      "2021-05     6.501671\n",
      "2021-06     7.634691\n",
      "2021-07     4.837101\n",
      "2021-08     6.521769\n",
      "2021-09     7.229761\n",
      "2021-10     9.744064\n",
      "2021-11     6.372873\n",
      "2021-12    13.038682\n",
      "Freq: M, Name: loan_amount, dtype: float64\n"
     ]
    }
   ],
   "source": [
    "mom_total_fund_amount = monthly_funds.pct_change().fillna(0)*100\n",
    "print('Month over month total funded amount in terms of percentage:', mom_total_fund_amount)"
   ]
  },
  {
   "cell_type": "markdown",
   "id": "ed372a57-ca43-4c2f-adeb-d33c8031b61c",
   "metadata": {},
   "source": [
    "7. **Total Amount Received**"
   ]
  },
  {
   "cell_type": "code",
   "execution_count": 40,
   "id": "1d0d007c-70f0-4f7c-97c3-32ac04bf2a84",
   "metadata": {},
   "outputs": [
    {
     "name": "stdout",
     "output_type": "stream",
     "text": [
      "Total received Amount: 473070933\n"
     ]
    }
   ],
   "source": [
    "total_received_amount = df1['total_payment'].sum()\n",
    "print('Total received Amount:', total_received_amount)"
   ]
  },
  {
   "cell_type": "markdown",
   "id": "79a4c1bc-c0c0-47ab-82d2-95ec5dcf45b9",
   "metadata": {},
   "source": [
    "8. **MTD Total Received Amount**"
   ]
  },
  {
   "cell_type": "code",
   "execution_count": 42,
   "id": "26ec4c35-2582-4d4e-ac21-a5d7d8a1c47a",
   "metadata": {},
   "outputs": [
    {
     "name": "stdout",
     "output_type": "stream",
     "text": [
      "total fund received in each month: last_payment_month\n",
      "2021-01    36069105\n",
      "2021-02    38455971\n",
      "2021-03    45333638\n",
      "2021-04    39408058\n",
      "2021-05    61099806\n",
      "2021-06    32150315\n",
      "2021-07    36016484\n",
      "2021-08    36858010\n",
      "2021-09    34523848\n",
      "2021-10    37526561\n",
      "2021-11    34654518\n",
      "2021-12    40974619\n",
      "Freq: M, Name: total_payment, dtype: int64\n"
     ]
    }
   ],
   "source": [
    "df1['last_payment_month'] = df1['last_payment_date'].dt.to_period('M')\n",
    "monthly_received_funds=df1.groupby(\"last_payment_month\")[\"total_payment\"].sum()\n",
    "print('total fund received in each month:',monthly_received_funds)"
   ]
  },
  {
   "cell_type": "markdown",
   "id": "775ad275-3a0c-47f0-ad2d-5ba5fa87dc24",
   "metadata": {},
   "source": [
    "9. **MOM Total Received Amount**"
   ]
  },
  {
   "cell_type": "code",
   "execution_count": 44,
   "id": "178c9816-690e-4ce8-bafe-cf982b675365",
   "metadata": {},
   "outputs": [
    {
     "name": "stdout",
     "output_type": "stream",
     "text": [
      "Month over month total received amount in terms of percentage: last_payment_month\n",
      "2021-01     0.000000\n",
      "2021-02     6.617481\n",
      "2021-03    17.884523\n",
      "2021-04   -13.071045\n",
      "2021-05    55.043941\n",
      "2021-06   -47.380659\n",
      "2021-07    12.025291\n",
      "2021-08     2.336502\n",
      "2021-09    -6.332849\n",
      "2021-10     8.697504\n",
      "2021-11    -7.653361\n",
      "2021-12    18.237452\n",
      "Freq: M, Name: total_payment, dtype: float64\n"
     ]
    }
   ],
   "source": [
    "mom_total_received_amount = monthly_received_funds.pct_change().fillna(0)*100\n",
    "print('Month over month total received amount in terms of percentage:', mom_total_received_amount)"
   ]
  },
  {
   "cell_type": "markdown",
   "id": "5013664a-b605-4510-9080-69140ba9ddea",
   "metadata": {},
   "source": [
    "10. **Average Interest Rate**"
   ]
  },
  {
   "cell_type": "code",
   "execution_count": 46,
   "id": "ea068646-077b-486c-9eb5-40de43b1943d",
   "metadata": {},
   "outputs": [
    {
     "name": "stdout",
     "output_type": "stream",
     "text": [
      "Average interest rate: 12.048831397760265\n"
     ]
    }
   ],
   "source": [
    "avg_int_rate = df1['int_rate'].mean()*100\n",
    "print('Average interest rate:', avg_int_rate)"
   ]
  },
  {
   "cell_type": "markdown",
   "id": "00d99df8-591f-4e1c-85d5-221627088ada",
   "metadata": {},
   "source": [
    "11. **MTD Average Interest Rate**"
   ]
  },
  {
   "cell_type": "code",
   "execution_count": 48,
   "id": "6d1fbc7a-2e49-4abb-95c1-6070626ef170",
   "metadata": {},
   "outputs": [
    {
     "name": "stdout",
     "output_type": "stream",
     "text": [
      "Average interest rate for each month: issue_month\n",
      "2021-01    0.114619\n",
      "2021-02    0.117216\n",
      "2021-03    0.118583\n",
      "2021-04    0.117409\n",
      "2021-05    0.122578\n",
      "2021-06    0.122742\n",
      "2021-07    0.122372\n",
      "2021-08    0.123002\n",
      "2021-09    0.120032\n",
      "2021-10    0.120241\n",
      "2021-11    0.119417\n",
      "2021-12    0.123560\n",
      "Freq: M, Name: int_rate, dtype: float64\n"
     ]
    }
   ],
   "source": [
    "monthly_interest=df1.groupby(\"issue_month\")[\"int_rate\"].mean()\n",
    "print('Average interest rate for each month:',monthly_interest)"
   ]
  },
  {
   "cell_type": "markdown",
   "id": "f10b5d9d-0514-4119-92a8-0d46416fa1d3",
   "metadata": {},
   "source": [
    "13. **MOM average Interest Rate**"
   ]
  },
  {
   "cell_type": "code",
   "execution_count": 50,
   "id": "4fe68bb2-bce7-49e3-b836-f6379e5746c1",
   "metadata": {},
   "outputs": [
    {
     "name": "stdout",
     "output_type": "stream",
     "text": [
      "Month over month average interest rate in terms of percentage: issue_month\n",
      "2021-01    0.000000\n",
      "2021-02    2.266167\n",
      "2021-03    1.165866\n",
      "2021-04   -0.989885\n",
      "2021-05    4.402446\n",
      "2021-06    0.134188\n",
      "2021-07   -0.301493\n",
      "2021-08    0.514808\n",
      "2021-09   -2.414612\n",
      "2021-10    0.174039\n",
      "2021-11   -0.685333\n",
      "2021-12    3.469546\n",
      "Freq: M, Name: int_rate, dtype: float64\n"
     ]
    }
   ],
   "source": [
    "mom_interest = monthly_interest.pct_change().fillna(0)*100\n",
    "print('Month over month average interest rate in terms of percentage:', mom_interest)"
   ]
  },
  {
   "cell_type": "markdown",
   "id": "166361cc-4c5d-4d58-82ea-14d5fa450e71",
   "metadata": {},
   "source": [
    "14. **Average DTI Ratio**"
   ]
  },
  {
   "cell_type": "code",
   "execution_count": 52,
   "id": "4ec7a3f6-b911-4d3a-9ff7-3e114e309f65",
   "metadata": {},
   "outputs": [
    {
     "name": "stdout",
     "output_type": "stream",
     "text": [
      "Average DTI Ratio: 13.327433119037742\n"
     ]
    }
   ],
   "source": [
    "avg_dti_ratio = df1['dti'].mean()*100\n",
    "print('Average DTI Ratio:', avg_dti_ratio)"
   ]
  },
  {
   "cell_type": "markdown",
   "id": "ede10a0f-8c41-4082-afd7-30fd9c095384",
   "metadata": {},
   "source": [
    "15. **MTD Average DTI Ratio**"
   ]
  },
  {
   "cell_type": "code",
   "execution_count": 54,
   "id": "9f8a287e-f15a-419c-ba13-705f6c11d707",
   "metadata": {},
   "outputs": [
    {
     "name": "stdout",
     "output_type": "stream",
     "text": [
      "Average DTI Ratio for each month: issue_month\n",
      "2021-01    0.129370\n",
      "2021-02    0.134093\n",
      "2021-03    0.132156\n",
      "2021-04    0.132194\n",
      "2021-05    0.133337\n",
      "2021-06    0.132438\n",
      "2021-07    0.132948\n",
      "2021-08    0.133532\n",
      "2021-09    0.132978\n",
      "2021-10    0.134144\n",
      "2021-11    0.133027\n",
      "2021-12    0.136655\n",
      "Freq: M, Name: dti, dtype: float64\n"
     ]
    }
   ],
   "source": [
    "monthly_dti=df1.groupby(\"issue_month\")[\"dti\"].mean()\n",
    "print('Average DTI Ratio for each month:',monthly_dti)"
   ]
  },
  {
   "cell_type": "markdown",
   "id": "2dfdd2e6-feb8-4e29-8bef-5da3df2c1160",
   "metadata": {},
   "source": [
    "16. **MOM Average DTI Ratio**"
   ]
  },
  {
   "cell_type": "code",
   "execution_count": 56,
   "id": "6f78f04b-be48-47f2-be38-d2a79dada227",
   "metadata": {},
   "outputs": [
    {
     "name": "stdout",
     "output_type": "stream",
     "text": [
      "Month over month average DTI Ratio in terms of percentage: issue_month\n",
      "2021-01    0.000000\n",
      "2021-02    3.651107\n",
      "2021-03   -1.444620\n",
      "2021-04    0.028348\n",
      "2021-05    0.865271\n",
      "2021-06   -0.674702\n",
      "2021-07    0.385346\n",
      "2021-08    0.439388\n",
      "2021-09   -0.414759\n",
      "2021-10    0.876330\n",
      "2021-11   -0.832296\n",
      "2021-12    2.727291\n",
      "Freq: M, Name: dti, dtype: float64\n"
     ]
    }
   ],
   "source": [
    "mom_dti = monthly_dti.pct_change().fillna(0)*100\n",
    "print('Month over month average DTI Ratio in terms of percentage:', mom_dti)"
   ]
  },
  {
   "cell_type": "markdown",
   "id": "e6792f56-31ec-437d-9b8f-cf6918bbe388",
   "metadata": {},
   "source": [
    "17. **Good Loan Application | Bad Loan Application**"
   ]
  },
  {
   "cell_type": "code",
   "execution_count": 60,
   "id": "951d9088-ee64-4384-a301-72bb147df693",
   "metadata": {},
   "outputs": [
    {
     "name": "stdout",
     "output_type": "stream",
     "text": [
      "Total no of Good Applications: 33243\n",
      "Total no of Bad Applications: 5333\n"
     ]
    }
   ],
   "source": [
    "df1['loan_status'].replace({'Fully Paid':'Good','Charged Off':'Bad','Current':'Good'},inplace=True)\n",
    "good = df1['loan_status'].value_counts()[0]\n",
    "bad = df1['loan_status'].value_counts()[1]\n",
    "print(f'Total no of Good Applications: {good}',f'Total no of Bad Applications: {bad}',sep='\\n')"
   ]
  },
  {
   "cell_type": "markdown",
   "id": "1827eca4-a264-4e21-9eee-98f490540f9f",
   "metadata": {},
   "source": [
    "18. **Good Loan Application percentage | Bad Loan Application percentage**"
   ]
  },
  {
   "cell_type": "code",
   "execution_count": 62,
   "id": "f2eb579d-026f-4f14-94bb-829f20b2e211",
   "metadata": {},
   "outputs": [
    {
     "name": "stdout",
     "output_type": "stream",
     "text": [
      "Total no of Good Applications Percentage: 86.17534218166736\n",
      "Total no of Bad Applications Percentage: 13.824657818332643\n"
     ]
    }
   ],
   "source": [
    "goodp = df1['loan_status'].value_counts(normalize=True)[0]*100\n",
    "badp = df1['loan_status'].value_counts(normalize=True)[1]*100\n",
    "print(f'Total no of Good Applications Percentage: {goodp}',f'Total no of Bad Applications Percentage: {badp}',sep='\\n')"
   ]
  },
  {
   "cell_type": "markdown",
   "id": "4d7cbce7-f63c-457b-b5bf-3a6e01663198",
   "metadata": {},
   "source": [
    "19. **Good Loan Funded Amount | Bad Loan Funded Amount**"
   ]
  },
  {
   "cell_type": "code",
   "execution_count": 64,
   "id": "7d77a226-c759-4e37-8199-baaedb4bbcd7",
   "metadata": {},
   "outputs": [
    {
     "name": "stdout",
     "output_type": "stream",
     "text": [
      "Good Loan Funded Amount: 370224850\n",
      "Bad Loan Funded Amount: 65532225\n"
     ]
    }
   ],
   "source": [
    "badf = df1.groupby('loan_status')['loan_amount'].sum()[0]\n",
    "goodf = df1.groupby('loan_status')['loan_amount'].sum()[1]\n",
    "print(f'Good Loan Funded Amount: {goodf}',f'Bad Loan Funded Amount: {badf}',sep='\\n')"
   ]
  },
  {
   "cell_type": "markdown",
   "id": "e50d8477-49ef-467c-bb68-9a63c3570b95",
   "metadata": {},
   "source": [
    "20. **Good Loan Received Amount | Bad Loan Received Amount**"
   ]
  },
  {
   "cell_type": "code",
   "execution_count": 66,
   "id": "00e01152-5e92-48ad-9026-45cb9339f674",
   "metadata": {},
   "outputs": [
    {
     "name": "stdout",
     "output_type": "stream",
     "text": [
      "Good Loan Received Amount: 435786170\n",
      "Bad Loan Received Amount: 37284763\n"
     ]
    }
   ],
   "source": [
    "badr = df1.groupby('loan_status')['total_payment'].sum()[0]\n",
    "goodr = df1.groupby('loan_status')['total_payment'].sum()[1]\n",
    "print(f'Good Loan Received Amount: {goodr}',f'Bad Loan Received Amount: {badr}',sep='\\n')"
   ]
  },
  {
   "cell_type": "markdown",
   "id": "fe27fea6-21e6-4e1f-aaa8-67a977650dc1",
   "metadata": {},
   "source": [
    "# CHARTS"
   ]
  },
  {
   "cell_type": "markdown",
   "id": "a4ff36ee-8097-4c4c-8224-359472027d7f",
   "metadata": {},
   "source": [
    "1. **Monthly Trends by Issue Date (Line Chart)**"
   ]
  },
  {
   "cell_type": "code",
   "execution_count": 143,
   "id": "1eef70f6-48ab-484d-b819-4ba9a0b49169",
   "metadata": {},
   "outputs": [
    {
     "data": {
      "image/png": "[encoded data removed]",
      "text/plain": [
       "<Figure size 1500x1200 with 3 Axes>"
      ]
     },
     "metadata": {},
     "output_type": "display_data"
    }
   ],
   "source": [
    "plt.figure(figsize=(15,12))\n",
    "plt.subplot(3,2,1)\n",
    "plt.plot(mtd.values,marker='o',label='no of loan application')\n",
    "x = mtd.index.to_list()\n",
    "months = ['JAN','FEB','MAR','APR','MAY','JUN','JUL','AUG','SEP','OCT','NOV','DEC']\n",
    "plt.xticks([0,1,2,3,4,5,6,7,8,9,10,11],months)\n",
    "plt.legend()\n",
    "\n",
    "plt.subplot(3,2,2)\n",
    "plt.plot(monthly_funds.values,marker='*',label='Total Funded Amount')\n",
    "x = mtd.index.to_list()\n",
    "months = ['JAN','FEB','MAR','APR','MAY','JUN','JUL','AUG','SEP','OCT','NOV','DEC']\n",
    "plt.xticks([0,1,2,3,4,5,6,7,8,9,10,11],months)\n",
    "plt.legend()\n",
    "\n",
    "plt.subplot(3,2,3)\n",
    "plt.plot(monthly_received_funds.values,marker='*',label='Total Received Amount')\n",
    "x = mtd.index.to_list()\n",
    "months = ['JAN','FEB','MAR','APR','MAY','JUN','JUL','AUG','SEP','OCT','NOV','DEC']\n",
    "plt.xticks([0,1,2,3,4,5,6,7,8,9,10,11],months)\n",
    "plt.legend()\n",
    "\n",
    "plt.show()"
   ]
  },
  {
   "cell_type": "markdown",
   "id": "0a50f2ab-5e92-4af7-8c15-fc3f2baa4b2e",
   "metadata": {},
   "source": [
    "2. **Regional analysis by state**"
   ]
  },
  {
   "cell_type": "code",
   "execution_count": 185,
   "id": "acbbe0ac-3ba4-4d2d-a7ce-17448cd74f93",
   "metadata": {},
   "outputs": [
    {
     "data": {
      "image/png": "[encoded data removed]",
      "text/plain": [
       "<Figure size 640x480 with 1 Axes>"
      ]
     },
     "metadata": {},
     "output_type": "display_data"
    }
   ],
   "source": [
    "x = df1['address_state'].value_counts().index.to_list()[0:6]\n",
    "y = df1['address_state'].value_counts().iloc[0:6]\n",
    "plt.barh(x,y)\n",
    "plt.show()"
   ]
  },
  {
   "cell_type": "markdown",
   "id": "fe4a5fe1-a37d-4d2e-a43b-13c92760283a",
   "metadata": {},
   "source": [
    "3. **Loan term analysis**"
   ]
  },
  {
   "cell_type": "code",
   "execution_count": 180,
   "id": "ecac394b-13c4-4d2d-8dc9-7634353dda15",
   "metadata": {},
   "outputs": [
    {
     "data": {
      "image/png": "[encoded data removed]",
      "text/plain": [
       "<Figure size 640x480 with 1 Axes>"
      ]
     },
     "metadata": {},
     "output_type": "display_data"
    }
   ],
   "source": [
    "x = df1['term'].value_counts()\n",
    "labels = df1['term'].value_counts().index.to_list()\n",
    "plt.pie(x,labels=labels,autopct='%0.1f%%')\n",
    "plt.show()"
   ]
  },
  {
   "cell_type": "markdown",
   "id": "00766b2a-6dd3-49aa-a75e-68f9edfeda5f",
   "metadata": {},
   "source": [
    "4. **Employee length analysis**"
   ]
  },
  {
   "cell_type": "code",
   "execution_count": 187,
   "id": "a482885a-bfe8-4b95-bff5-d0ab8cb79f0c",
   "metadata": {},
   "outputs": [
    {
     "data": {
      "image/png": "[encoded data removed]",
      "text/plain": [
       "<Figure size 640x480 with 1 Axes>"
      ]
     },
     "metadata": {},
     "output_type": "display_data"
    }
   ],
   "source": [
    "x = df1['emp_length'].value_counts().index.to_list()[0:6]\n",
    "y = df1['emp_length'].value_counts().iloc[0:6]\n",
    "plt.bar(x,y)\n",
    "plt.show()"
   ]
  },
  {
   "cell_type": "markdown",
   "id": "515d129f-669b-4ac7-957f-286b39588e4f",
   "metadata": {},
   "source": [
    "5. **Loan purpose breakdown**"
   ]
  },
  {
   "cell_type": "code",
   "execution_count": 198,
   "id": "208948b3-ddb9-468a-86ce-7fb98b5420db",
   "metadata": {},
   "outputs": [
    {
     "data": {
      "image/png": "[encoded data removed]",
      "text/plain": [
       "<Figure size 640x480 with 1 Axes>"
      ]
     },
     "metadata": {},
     "output_type": "display_data"
    }
   ],
   "source": [
    "x = df1['purpose'].value_counts().index.to_list()[0:6]\n",
    "y = df1['purpose'].value_counts().iloc[0:6]\n",
    "plt.bar(x,y)\n",
    "plt.xticks(rotation=45)\n",
    "plt.show()"
   ]
  },
  {
   "cell_type": "markdown",
   "id": "240fd774-029a-47f4-9d34-46396b166a90",
   "metadata": {},
   "source": [
    "6. **Home ownership analysis**"
   ]
  },
  {
   "cell_type": "code",
   "execution_count": 201,
   "id": "e4c10546-31a0-4359-8664-4ff7ff1fe5ff",
   "metadata": {},
   "outputs": [
    {
     "data": {
      "image/png": "[encoded data removed]",
      "text/plain": [
       "<Figure size 640x480 with 1 Axes>"
      ]
     },
     "metadata": {},
     "output_type": "display_data"
    }
   ],
   "source": [
    "x = df1['home_ownership'].value_counts().index.to_list()[0:6]\n",
    "y = df1['home_ownership'].value_counts().iloc[0:6]\n",
    "plt.bar(x,y)\n",
    "plt.show()"
   ]
  },
  {
   "cell_type": "code",
   "execution_count": null,
   "id": "4dcc1439-426d-4db5-88e8-65f80b7a3cc3",
   "metadata": {},
   "outputs": [],
   "source": []
  },
  {
   "cell_type": "code",
   "execution_count": null,
   "id": "656ab817-a3e1-47ae-bb7e-4e7098ab6668",
   "metadata": {},
   "outputs": [],
   "source": []
  },
  {
   "cell_type": "code",
   "execution_count": null,
   "id": "2fc2da85-4a2c-4ab3-bb63-491e52265ee8",
   "metadata": {},
   "outputs": [],
   "source": []
  },
  {
   "cell_type": "code",
   "execution_count": null,
   "id": "97afc9ef-0620-410d-9494-7575899b84ab",
   "metadata": {},
   "outputs": [],
   "source": []
  },
  {
   "cell_type": "code",
   "execution_count": null,
   "id": "170c97c5-9d1d-48bb-850c-ffe3e286e4d4",
   "metadata": {},
   "outputs": [],
   "source": []
  },
  {
   "cell_type": "code",
   "execution_count": null,
   "id": "5992cd24-a1f5-4953-9dc5-0e28e97dce6f",
   "metadata": {},
   "outputs": [],
   "source": []
  },
  {
   "cell_type": "code",
   "execution_count": null,
   "id": "2bc00f16-763d-4f77-8565-ae5cd8132ad7",
   "metadata": {},
   "outputs": [],
   "source": []
  },
  {
   "cell_type": "code",
   "execution_count": null,
   "id": "256b50f1-c1a2-4b33-99c6-d53954dbf923",
   "metadata": {},
   "outputs": [],
   "source": []
  },
  {
   "cell_type": "code",
   "execution_count": null,
   "id": "ed9bc3c0-c469-4624-aa36-1575a21173d2",
   "metadata": {},
   "outputs": [],
   "source": []
  },
  {
   "cell_type": "code",
   "execution_count": null,
   "id": "168f7314-91e1-4093-861b-6be3077bcc87",
   "metadata": {},
   "outputs": [],
   "source": []
  },
  {
   "cell_type": "code",
   "execution_count": null,
   "id": "8a598fc7-a43c-43eb-9ee4-26ae9d08ab30",
   "metadata": {},
   "outputs": [],
   "source": []
  },
  {
   "cell_type": "code",
   "execution_count": null,
   "id": "4a253c98-f0fa-4d06-8f19-ce2d710de8a9",
   "metadata": {},
   "outputs": [],
   "source": []
  },
  {
   "cell_type": "code",
   "execution_count": null,
   "id": "a3a06d4f-035f-45da-869a-5193662167a0",
   "metadata": {},
   "outputs": [],
   "source": []
  },
  {
   "cell_type": "code",
   "execution_count": null,
   "id": "b6fea103-b021-474a-ae5b-e903e5e19edb",
   "metadata": {},
   "outputs": [],
   "source": []
  },
  {
   "cell_type": "code",
   "execution_count": null,
   "id": "b711c121-4056-4a38-ba65-3d5d91568db6",
   "metadata": {},
   "outputs": [],
   "source": []
  },
  {
   "cell_type": "code",
   "execution_count": null,
   "id": "3d6938b1-9f89-4de3-8f41-48994771c692",
   "metadata": {},
   "outputs": [],
   "source": []
  },
  {
   "cell_type": "code",
   "execution_count": null,
   "id": "3a1a700d-6b28-419a-b330-d7eed1f9e840",
   "metadata": {},
   "outputs": [],
   "source": []
  },
  {
   "cell_type": "code",
   "execution_count": null,
   "id": "05496216-7035-4eb7-b624-c9a64fc28da6",
   "metadata": {},
   "outputs": [],
   "source": []
  },
  {
   "cell_type": "code",
   "execution_count": null,
   "id": "abac8470-a6e6-46d6-9665-e5fd3ec2237a",
   "metadata": {},
   "outputs": [],
   "source": []
  },
  {
   "cell_type": "code",
   "execution_count": null,
   "id": "26ac52e8-9a11-4b59-b239-4738ab823543",
   "metadata": {},
   "outputs": [],
   "source": []
  },
  {
   "cell_type": "code",
   "execution_count": null,
   "id": "ab69d639-7c66-4170-a705-8b5978bb8e1e",
   "metadata": {},
   "outputs": [],
   "source": []
  },
  {
   "cell_type": "code",
   "execution_count": null,
   "id": "80a26f56-3eae-4c50-8b57-20a530eb60f1",
   "metadata": {},
   "outputs": [],
   "source": []
  },
  {
   "cell_type": "code",
   "execution_count": null,
   "id": "1d80b76f-09f4-40d9-b70a-0012f6f649bb",
   "metadata": {},
   "outputs": [],
   "source": []
  },
  {
   "cell_type": "code",
   "execution_count": null,
   "id": "86301d5c-4b86-491c-bb4b-36cb5b4b665c",
   "metadata": {},
   "outputs": [],
   "source": []
  },
  {
   "cell_type": "code",
   "execution_count": null,
   "id": "b29f3c05-1e78-4d3b-b67c-21b16af9262d",
   "metadata": {},
   "outputs": [],
   "source": []
  },
  {
   "cell_type": "code",
   "execution_count": null,
   "id": "47018ae6-d8de-42d1-b53c-15ff7097b2d4",
   "metadata": {},
   "outputs": [],
   "source": [
    "df['issue_month'] = df['issue_date'].dt.to_period('M')\n",
    "df['issue_month'].value_counts()\n",
    "\n",
    "monthly_counts=df[\"issue_month\"].value_counts().sort_index()\n",
    "print(f\"Total Application in every {monthly_counts}\")\n",
    "\n",
    "total_fund=df[\"loan_amount\"].sum()\n",
    "print(f\"Total Funded Amount ${total_fund}\")\n",
    "\n",
    "monthly_funds=df.groupby(\"issue_month\")[\"loan_amount\"].sum()\n",
    "monthly_funds\n",
    "\n",
    "mom_changes = monthly_counts.pct_change().fillna(0)*100\n",
    "print(f\"Total application over month {mom_changes}\")"
   ]
  },
  {
   "cell_type": "code",
   "execution_count": null,
   "id": "43e6115d-0e96-40be-8267-b18524386ecb",
   "metadata": {},
   "outputs": [],
   "source": []
  },
  {
   "cell_type": "code",
   "execution_count": null,
   "id": "ec41b5df-786e-4e0d-a402-17cdad579608",
   "metadata": {},
   "outputs": [],
   "source": []
  },
  {
   "cell_type": "code",
   "execution_count": null,
   "id": "8f13d8c0-4243-4204-96cc-91242b76a6a9",
   "metadata": {},
   "outputs": [],
   "source": []
  },
  {
   "cell_type": "code",
   "execution_count": null,
   "id": "b3a3c916-bfe8-46d8-a6e3-e77dbdedccf7",
   "metadata": {},
   "outputs": [],
   "source": []
  },
  {
   "cell_type": "code",
   "execution_count": null,
   "id": "1c2840d5-4e90-4c48-a1b2-70b3a5eb1d9c",
   "metadata": {},
   "outputs": [],
   "source": []
  },
  {
   "cell_type": "code",
   "execution_count": null,
   "id": "19b87d36-246a-4d4c-b007-3372d698ab17",
   "metadata": {},
   "outputs": [],
   "source": []
  },
  {
   "cell_type": "code",
   "execution_count": null,
   "id": "baa47a9b-4d26-4d68-bfc7-c21ace1e85df",
   "metadata": {},
   "outputs": [],
   "source": []
  },
  {
   "cell_type": "code",
   "execution_count": null,
   "id": "acc68277-ae39-49ee-a866-3994fc033ac7",
   "metadata": {},
   "outputs": [],
   "source": []
  },
  {
   "cell_type": "code",
   "execution_count": null,
   "id": "ad9d8437-26eb-4ec6-88ef-60c5a0225093",
   "metadata": {},
   "outputs": [],
   "source": []
  },
  {
   "cell_type": "code",
   "execution_count": null,
   "id": "01aee5a7-c443-410c-8196-4e9e9cc0c204",
   "metadata": {},
   "outputs": [],
   "source": []
  },
  {
   "cell_type": "code",
   "execution_count": null,
   "id": "36a31f28-c278-4c61-9610-71a2a9a048b2",
   "metadata": {},
   "outputs": [],
   "source": []
  },
  {
   "cell_type": "code",
   "execution_count": null,
   "id": "e07a3ed0-f24d-4f88-82a8-4afc5b82b467",
   "metadata": {},
   "outputs": [],
   "source": []
  },
  {
   "cell_type": "code",
   "execution_count": null,
   "id": "50e9e9d5-3828-4968-a77b-9ea820701de7",
   "metadata": {},
   "outputs": [],
   "source": []
  },
  {
   "cell_type": "code",
   "execution_count": null,
   "id": "01670021-4b5c-4e0c-8af8-6736cb087aa4",
   "metadata": {},
   "outputs": [],
   "source": []
  },
  {
   "cell_type": "code",
   "execution_count": null,
   "id": "6d6139ca-94ce-41ba-b1eb-93a33d9f78d9",
   "metadata": {},
   "outputs": [],
   "source": []
  },
  {
   "cell_type": "code",
   "execution_count": null,
   "id": "dcdc40e1-a96d-4b27-ae4e-6d61e4a7200f",
   "metadata": {},
   "outputs": [],
   "source": []
  },
  {
   "cell_type": "code",
   "execution_count": null,
   "id": "a49000da-e993-4f09-a8ac-8c8c7f172b11",
   "metadata": {},
   "outputs": [],
   "source": []
  },
  {
   "cell_type": "code",
   "execution_count": null,
   "id": "0492a504-57ae-4f57-b508-a9ee482e0c49",
   "metadata": {},
   "outputs": [],
   "source": []
  },
  {
   "cell_type": "code",
   "execution_count": null,
   "id": "db16d2c7-bc7e-4d87-9f17-30af84e14f1b",
   "metadata": {},
   "outputs": [],
   "source": []
  },
  {
   "cell_type": "code",
   "execution_count": null,
   "id": "ed930201-b1c0-411e-963b-18bcc27ea61d",
   "metadata": {},
   "outputs": [],
   "source": []
  },
  {
   "cell_type": "code",
   "execution_count": null,
   "id": "5393362e-e653-4dcb-b8d4-f46177f746ba",
   "metadata": {},
   "outputs": [],
   "source": []
  }
 ],
 "metadata": {
  "kernelspec": {
   "display_name": "Python 3 (ipykernel)",
   "language": "python",
   "name": "python3"
  },
  "language_info": {
   "codemirror_mode": {
    "name": "ipython",
    "version": 3
   },
   "file_extension": ".py",
   "mimetype": "text/x-python",
   "name": "python",
   "nbconvert_exporter": "python",
   "pygments_lexer": "ipython3",
   "version": "3.12.3"
  }
 },
 "nbformat": 4,
 "nbformat_minor": 5
}
